{
 "cells": [
  {
   "cell_type": "code",
   "execution_count": 1,
   "id": "474ae090-a929-44f0-a98c-986f08c5a018",
   "metadata": {},
   "outputs": [],
   "source": [
    "import pandas as pd\n",
    "import seaborn as sns\n",
    "import numpy as np\n",
    "import re\n",
    "import unicodedata"
   ]
  },
  {
   "cell_type": "code",
   "execution_count": 3,
   "id": "dcab4a10-e276-4106-9905-2e107d8a0b9d",
   "metadata": {},
   "outputs": [],
   "source": [
    "raw_data_train = pd.read_excel(\"Data_Train.xlsx\")\n",
    "raw_data_test = pd.read_excel(\"Data_Test.xlsx\")"
   ]
  },
  {
   "cell_type": "code",
   "execution_count": null,
   "id": "761dc0b5-e8ba-4f3e-9433-ff894285ef0f",
   "metadata": {},
   "outputs": [],
   "source": [
    "cd Hackathon"
   ]
  },
  {
   "cell_type": "code",
   "execution_count": 4,
   "id": "b77c2060-11d2-43e0-8968-47a03b59c8fb",
   "metadata": {},
   "outputs": [
    {
     "data": {
      "text/html": [
       "<div>\n",
       "<style scoped>\n",
       "    .dataframe tbody tr th:only-of-type {\n",
       "        vertical-align: middle;\n",
       "    }\n",
       "\n",
       "    .dataframe tbody tr th {\n",
       "        vertical-align: top;\n",
       "    }\n",
       "\n",
       "    .dataframe thead th {\n",
       "        text-align: right;\n",
       "    }\n",
       "</style>\n",
       "<table border=\"1\" class=\"dataframe\">\n",
       "  <thead>\n",
       "    <tr style=\"text-align: right;\">\n",
       "      <th></th>\n",
       "      <th>STORY</th>\n",
       "      <th>SECTION</th>\n",
       "    </tr>\n",
       "  </thead>\n",
       "  <tbody>\n",
       "    <tr>\n",
       "      <th>0</th>\n",
       "      <td>But the most painful was the huge reversal in ...</td>\n",
       "      <td>3.0</td>\n",
       "    </tr>\n",
       "    <tr>\n",
       "      <th>1</th>\n",
       "      <td>How formidable is the opposition alliance amon...</td>\n",
       "      <td>0.0</td>\n",
       "    </tr>\n",
       "    <tr>\n",
       "      <th>2</th>\n",
       "      <td>Most Asian currencies were trading lower today...</td>\n",
       "      <td>3.0</td>\n",
       "    </tr>\n",
       "    <tr>\n",
       "      <th>3</th>\n",
       "      <td>If you want to answer any question, click on ‘...</td>\n",
       "      <td>1.0</td>\n",
       "    </tr>\n",
       "    <tr>\n",
       "      <th>4</th>\n",
       "      <td>In global markets, gold prices edged up today ...</td>\n",
       "      <td>3.0</td>\n",
       "    </tr>\n",
       "    <tr>\n",
       "      <th>...</th>\n",
       "      <td>...</td>\n",
       "      <td>...</td>\n",
       "    </tr>\n",
       "    <tr>\n",
       "      <th>7623</th>\n",
       "      <td>Karnataka has been a Congress bastion, but it ...</td>\n",
       "      <td>0.0</td>\n",
       "    </tr>\n",
       "    <tr>\n",
       "      <th>7624</th>\n",
       "      <td>The film, which also features Janhvi Kapoor, w...</td>\n",
       "      <td>2.0</td>\n",
       "    </tr>\n",
       "    <tr>\n",
       "      <th>7625</th>\n",
       "      <td>The database has been created after bringing t...</td>\n",
       "      <td>1.0</td>\n",
       "    </tr>\n",
       "    <tr>\n",
       "      <th>7626</th>\n",
       "      <td>The state, which has had an uneasy relationshi...</td>\n",
       "      <td>0.0</td>\n",
       "    </tr>\n",
       "    <tr>\n",
       "      <th>7627</th>\n",
       "      <td>Virus stars Kunchacko Boban, Tovino Thomas, In...</td>\n",
       "      <td>2.0</td>\n",
       "    </tr>\n",
       "  </tbody>\n",
       "</table>\n",
       "<p>7628 rows × 2 columns</p>\n",
       "</div>"
      ],
      "text/plain": [
       "                                                  STORY  SECTION\n",
       "0     But the most painful was the huge reversal in ...      3.0\n",
       "1     How formidable is the opposition alliance amon...      0.0\n",
       "2     Most Asian currencies were trading lower today...      3.0\n",
       "3     If you want to answer any question, click on ‘...      1.0\n",
       "4     In global markets, gold prices edged up today ...      3.0\n",
       "...                                                 ...      ...\n",
       "7623  Karnataka has been a Congress bastion, but it ...      0.0\n",
       "7624  The film, which also features Janhvi Kapoor, w...      2.0\n",
       "7625  The database has been created after bringing t...      1.0\n",
       "7626  The state, which has had an uneasy relationshi...      0.0\n",
       "7627  Virus stars Kunchacko Boban, Tovino Thomas, In...      2.0\n",
       "\n",
       "[7628 rows x 2 columns]"
      ]
     },
     "execution_count": 4,
     "metadata": {},
     "output_type": "execute_result"
    }
   ],
   "source": [
    "raw_data_train"
   ]
  },
  {
   "cell_type": "code",
   "execution_count": 5,
   "id": "9c44103c-45e6-46ed-9571-eeede240c674",
   "metadata": {},
   "outputs": [
    {
     "data": {
      "text/plain": [
       "<AxesSubplot:xlabel='SECTION', ylabel='count'>"
      ]
     },
     "execution_count": 5,
     "metadata": {},
     "output_type": "execute_result"
    },
    {
     "data": {
      "image/png": "[encoded data removed]",
      "text/plain": [
       "<Figure size 432x288 with 1 Axes>"
      ]
     },
     "metadata": {
      "needs_background": "light"
     },
     "output_type": "display_data"
    }
   ],
   "source": [
    "sns.countplot(x=\"SECTION\", data=raw_data_train)"
   ]
  },
  {
   "cell_type": "code",
   "execution_count": 6,
   "id": "895653b7-4323-49a5-aaa5-91cea05787ed",
   "metadata": {},
   "outputs": [],
   "source": [
    "# clean text\n",
    "def clean_text(string):\n",
    "    string = re.sub(\"\\n\", \" \", string) # remove new line character\n",
    "    string = re.sub(\"\\t\", \" \", string) # remove tabs\n",
    "    string = unicodedata.normalize(\"NFKD\",string).encode(\"ascii\", errors=\"ignore\").decode() # remove non-ascii weird characters\n",
    "    string = re.sub(\" +\", \" \", string) # remove multiple spaces\n",
    "    string = re.sub(\"^ \", \" \", string) # remove space at start\n",
    "    string = re.sub(\" $\", \" \", string) # remove space at end\n",
    "    \n",
    "    return string"
   ]
  },
  {
   "cell_type": "code",
   "execution_count": 8,
   "id": "5c6bddae-4f44-42e5-89f9-d19bb84b0b00",
   "metadata": {},
   "outputs": [],
   "source": [
    "raw_data_train[\"STORY\"] = raw_data_train[\"STORY\"].apply(clean_text)"
   ]
  },
  {
   "cell_type": "code",
   "execution_count": 21,
   "id": "2ea32976-554b-405d-a910-b4f1971f7c4c",
   "metadata": {},
   "outputs": [
    {
     "data": {
      "text/plain": [
       "0       2019 will see gadgets like gaming smartphones ...\n",
       "1       It has also unleashed a wave of changes in the...\n",
       "2       It can be confusing to pick the right smartpho...\n",
       "3       The mobile application is integrated with a da...\n",
       "4       We have rounded up some of the gadgets that sh...\n",
       "                              ...                        \n",
       "2743    According to researchers, fraud in the mobile ...\n",
       "2744    The iPhone XS and XS Max share the Apple A12 c...\n",
       "2745    On the photography front, the Note 5 Pro featu...\n",
       "2746    UDAY mandated that discoms bring the gap betwe...\n",
       "2747    Ripple also helps bank customers send money to...\n",
       "Name: STORY, Length: 2748, dtype: object"
      ]
     },
     "execution_count": 21,
     "metadata": {},
     "output_type": "execute_result"
    }
   ],
   "source": [
    "data_test = raw_data_test[\"STORY\"].apply(clean_text)\n",
    "data_test"
   ]
  },
  {
   "cell_type": "code",
   "execution_count": 9,
   "id": "f661edc7-6a87-4e6e-a128-d5637493aec4",
   "metadata": {},
   "outputs": [
    {
     "data": {
      "text/plain": [
       "0       But the most painful was the huge reversal in ...\n",
       "1       How formidable is the opposition alliance amon...\n",
       "2       Most Asian currencies were trading lower today...\n",
       "3       If you want to answer any question, click on A...\n",
       "4       In global markets, gold prices edged up today ...\n",
       "                              ...                        \n",
       "7623    Karnataka has been a Congress bastion, but it ...\n",
       "7624    The film, which also features Janhvi Kapoor, w...\n",
       "7625    The database has been created after bringing t...\n",
       "7626    The state, which has had an uneasy relationshi...\n",
       "7627    Virus stars Kunchacko Boban, Tovino Thomas, In...\n",
       "Name: STORY, Length: 7628, dtype: object"
      ]
     },
     "execution_count": 9,
     "metadata": {},
     "output_type": "execute_result"
    }
   ],
   "source": [
    "raw_data_train[\"STORY\"]"
   ]
  },
  {
   "cell_type": "code",
   "execution_count": 10,
   "id": "9b33258a-8ba7-4428-8866-f24f5c910825",
   "metadata": {},
   "outputs": [
    {
     "name": "stdout",
     "output_type": "stream",
     "text": [
      "initial length: 7628\n",
      "final length: 7548\n"
     ]
    }
   ],
   "source": [
    "# remove duplicates\n",
    "print(f\"initial length: {len(raw_data_train)}\")\n",
    "raw_data_train.drop_duplicates(subset=\"STORY\",inplace=True)\n",
    "print(f\"final length: {len(raw_data_train)}\")"
   ]
  },
  {
   "cell_type": "code",
   "execution_count": 11,
   "id": "83ba691a-745b-48d5-9037-05d09fa8d934",
   "metadata": {},
   "outputs": [
    {
     "name": "stdout",
     "output_type": "stream",
     "text": [
      "initial length: 7548\n",
      "final length: 7548\n"
     ]
    }
   ],
   "source": [
    "# remove empty\n",
    "print(f\"initial length: {len(raw_data_train)}\")\n",
    "raw_data_train['STORY'].replace('', np.nan, inplace=True)\n",
    "raw_data_train.dropna(inplace=True)\n",
    "print(f\"final length: {len(raw_data_train)}\")"
   ]
  },
  {
   "cell_type": "code",
   "execution_count": 12,
   "id": "c7903b7c-4139-4c05-8ec2-1552c60c5b17",
   "metadata": {},
   "outputs": [
    {
     "data": {
      "text/html": [
       "<div>\n",
       "<style scoped>\n",
       "    .dataframe tbody tr th:only-of-type {\n",
       "        vertical-align: middle;\n",
       "    }\n",
       "\n",
       "    .dataframe tbody tr th {\n",
       "        vertical-align: top;\n",
       "    }\n",
       "\n",
       "    .dataframe thead th {\n",
       "        text-align: right;\n",
       "    }\n",
       "</style>\n",
       "<table border=\"1\" class=\"dataframe\">\n",
       "  <thead>\n",
       "    <tr style=\"text-align: right;\">\n",
       "      <th></th>\n",
       "      <th>text</th>\n",
       "      <th>label</th>\n",
       "    </tr>\n",
       "  </thead>\n",
       "  <tbody>\n",
       "    <tr>\n",
       "      <th>0</th>\n",
       "      <td>But the most painful was the huge reversal in ...</td>\n",
       "      <td>3</td>\n",
       "    </tr>\n",
       "    <tr>\n",
       "      <th>1</th>\n",
       "      <td>How formidable is the opposition alliance amon...</td>\n",
       "      <td>0</td>\n",
       "    </tr>\n",
       "    <tr>\n",
       "      <th>2</th>\n",
       "      <td>Most Asian currencies were trading lower today...</td>\n",
       "      <td>3</td>\n",
       "    </tr>\n",
       "    <tr>\n",
       "      <th>3</th>\n",
       "      <td>If you want to answer any question, click on A...</td>\n",
       "      <td>1</td>\n",
       "    </tr>\n",
       "    <tr>\n",
       "      <th>4</th>\n",
       "      <td>In global markets, gold prices edged up today ...</td>\n",
       "      <td>3</td>\n",
       "    </tr>\n",
       "    <tr>\n",
       "      <th>...</th>\n",
       "      <td>...</td>\n",
       "      <td>...</td>\n",
       "    </tr>\n",
       "    <tr>\n",
       "      <th>7623</th>\n",
       "      <td>Karnataka has been a Congress bastion, but it ...</td>\n",
       "      <td>0</td>\n",
       "    </tr>\n",
       "    <tr>\n",
       "      <th>7624</th>\n",
       "      <td>The film, which also features Janhvi Kapoor, w...</td>\n",
       "      <td>2</td>\n",
       "    </tr>\n",
       "    <tr>\n",
       "      <th>7625</th>\n",
       "      <td>The database has been created after bringing t...</td>\n",
       "      <td>1</td>\n",
       "    </tr>\n",
       "    <tr>\n",
       "      <th>7626</th>\n",
       "      <td>The state, which has had an uneasy relationshi...</td>\n",
       "      <td>0</td>\n",
       "    </tr>\n",
       "    <tr>\n",
       "      <th>7627</th>\n",
       "      <td>Virus stars Kunchacko Boban, Tovino Thomas, In...</td>\n",
       "      <td>2</td>\n",
       "    </tr>\n",
       "  </tbody>\n",
       "</table>\n",
       "<p>7548 rows × 2 columns</p>\n",
       "</div>"
      ],
      "text/plain": [
       "                                                   text  label\n",
       "0     But the most painful was the huge reversal in ...      3\n",
       "1     How formidable is the opposition alliance amon...      0\n",
       "2     Most Asian currencies were trading lower today...      3\n",
       "3     If you want to answer any question, click on A...      1\n",
       "4     In global markets, gold prices edged up today ...      3\n",
       "...                                                 ...    ...\n",
       "7623  Karnataka has been a Congress bastion, but it ...      0\n",
       "7624  The film, which also features Janhvi Kapoor, w...      2\n",
       "7625  The database has been created after bringing t...      1\n",
       "7626  The state, which has had an uneasy relationshi...      0\n",
       "7627  Virus stars Kunchacko Boban, Tovino Thomas, In...      2\n",
       "\n",
       "[7548 rows x 2 columns]"
      ]
     },
     "execution_count": 12,
     "metadata": {},
     "output_type": "execute_result"
    }
   ],
   "source": [
    "# prepare dataset\n",
    "data_train = raw_data_train\n",
    "data_train.columns = ['text','label']\n",
    "data_train[\"label\"] = data_train[\"label\"].apply(int)\n",
    "data_train"
   ]
  },
  {
   "cell_type": "code",
   "execution_count": 13,
   "id": "de782f97-9a63-4beb-8016-2c3a127bfc5c",
   "metadata": {},
   "outputs": [],
   "source": [
    "# load transformers model\n",
    "from simpletransformers.classification import ClassificationModel"
   ]
  },
  {
   "cell_type": "code",
   "execution_count": 19,
   "id": "a47f1f73-d295-4c35-b875-28a1f780bde3",
   "metadata": {},
   "outputs": [
    {
     "data": {
      "application/vnd.jupyter.widget-view+json": {
       "model_id": "3037ff0f552841dbae2d99838d67226e",
       "version_major": 2,
       "version_minor": 0
      },
      "text/plain": [
       "Downloading:   0%|          | 0.00/483 [00:00<?, ?B/s]"
      ]
     },
     "metadata": {},
     "output_type": "display_data"
    },
    {
     "data": {
      "application/vnd.jupyter.widget-view+json": {
       "model_id": "1ed4a445e691470188cc2ccee2454941",
       "version_major": 2,
       "version_minor": 0
      },
      "text/plain": [
       "Downloading:   0%|          | 0.00/256M [00:00<?, ?B/s]"
      ]
     },
     "metadata": {},
     "output_type": "display_data"
    },
    {
     "name": "stderr",
     "output_type": "stream",
     "text": [
      "Some weights of the model checkpoint at distilbert-base-uncased were not used when initializing DistilBertForSequenceClassification: ['vocab_layer_norm.bias', 'vocab_projector.bias', 'vocab_projector.weight', 'vocab_transform.weight', 'vocab_transform.bias', 'vocab_layer_norm.weight']\n",
      "- This IS expected if you are initializing DistilBertForSequenceClassification from the checkpoint of a model trained on another task or with another architecture (e.g. initializing a BertForSequenceClassification model from a BertForPreTraining model).\n",
      "- This IS NOT expected if you are initializing DistilBertForSequenceClassification from the checkpoint of a model that you expect to be exactly identical (initializing a BertForSequenceClassification model from a BertForSequenceClassification model).\n",
      "Some weights of DistilBertForSequenceClassification were not initialized from the model checkpoint at distilbert-base-uncased and are newly initialized: ['classifier.weight', 'pre_classifier.bias', 'pre_classifier.weight', 'classifier.bias']\n",
      "You should probably TRAIN this model on a down-stream task to be able to use it for predictions and inference.\n"
     ]
    },
    {
     "data": {
      "application/vnd.jupyter.widget-view+json": {
       "model_id": "027e5a40eaf648f0ab57bd498d7cef0b",
       "version_major": 2,
       "version_minor": 0
      },
      "text/plain": [
       "Downloading:   0%|          | 0.00/226k [00:00<?, ?B/s]"
      ]
     },
     "metadata": {},
     "output_type": "display_data"
    },
    {
     "data": {
      "application/vnd.jupyter.widget-view+json": {
       "model_id": "224bf7fc2f724bb19d58dac4b25a1b3f",
       "version_major": 2,
       "version_minor": 0
      },
      "text/plain": [
       "Downloading:   0%|          | 0.00/455k [00:00<?, ?B/s]"
      ]
     },
     "metadata": {},
     "output_type": "display_data"
    },
    {
     "data": {
      "application/vnd.jupyter.widget-view+json": {
       "model_id": "445b114bb6b94af98f4aad4b3608fcd7",
       "version_major": 2,
       "version_minor": 0
      },
      "text/plain": [
       "Downloading:   0%|          | 0.00/28.0 [00:00<?, ?B/s]"
      ]
     },
     "metadata": {},
     "output_type": "display_data"
    }
   ],
   "source": [
    "# Load model\n",
    "\n",
    "model_args = {\n",
    "    \"num_train_epochs\": 1, \"learning_rate\": 1e-4, \"overwrite_output_dir\": True, \"number_of_labels\": 4\n",
    "}\n",
    "\n",
    "model = ClassificationModel(\n",
    "    model_type = \"distilbert\",\n",
    "    model_name = \"distilbert-base-uncased\",\n",
    "    args=model_args,\n",
    "    num_labels=4,\n",
    "    use_cuda=False)"
   ]
  },
  {
   "cell_type": "code",
   "execution_count": 22,
   "id": "d469091b-a083-4d8d-86b3-bdae0f10692a",
   "metadata": {},
   "outputs": [
    {
     "data": {
      "application/vnd.jupyter.widget-view+json": {
       "model_id": "705f7998177d4445b1f626f9e16b5606",
       "version_major": 2,
       "version_minor": 0
      },
      "text/plain": [
       "  0%|          | 0/7548 [00:00<?, ?it/s]"
      ]
     },
     "metadata": {},
     "output_type": "display_data"
    },
    {
     "data": {
      "application/vnd.jupyter.widget-view+json": {
       "model_id": "0e8be79f5c294895b13bb371c59e9d6f",
       "version_major": 2,
       "version_minor": 0
      },
      "text/plain": [
       "Epoch:   0%|          | 0/5 [00:00<?, ?it/s]"
      ]
     },
     "metadata": {},
     "output_type": "display_data"
    },
    {
     "data": {
      "application/vnd.jupyter.widget-view+json": {
       "model_id": "5688246c2deb499395b97cb9f4d2c7d4",
       "version_major": 2,
       "version_minor": 0
      },
      "text/plain": [
       "Running Epoch 0 of 5:   0%|          | 0/944 [00:00<?, ?it/s]"
      ]
     },
     "metadata": {},
     "output_type": "display_data"
    },
    {
     "data": {
      "application/vnd.jupyter.widget-view+json": {
       "model_id": "2e27ae7c3f7c477980641d399ac384c8",
       "version_major": 2,
       "version_minor": 0
      },
      "text/plain": [
       "Running Epoch 1 of 5:   0%|          | 0/944 [00:00<?, ?it/s]"
      ]
     },
     "metadata": {},
     "output_type": "display_data"
    },
    {
     "data": {
      "application/vnd.jupyter.widget-view+json": {
       "model_id": "153fade41f234e83a94498c8f3a08575",
       "version_major": 2,
       "version_minor": 0
      },
      "text/plain": [
       "Running Epoch 2 of 5:   0%|          | 0/944 [00:00<?, ?it/s]"
      ]
     },
     "metadata": {},
     "output_type": "display_data"
    },
    {
     "data": {
      "application/vnd.jupyter.widget-view+json": {
       "model_id": "01241b62856e4f13b224677ea3127e25",
       "version_major": 2,
       "version_minor": 0
      },
      "text/plain": [
       "Running Epoch 3 of 5:   0%|          | 0/944 [00:00<?, ?it/s]"
      ]
     },
     "metadata": {},
     "output_type": "display_data"
    },
    {
     "data": {
      "application/vnd.jupyter.widget-view+json": {
       "model_id": "a2cf81300e6b4f72a0678f9804149c56",
       "version_major": 2,
       "version_minor": 0
      },
      "text/plain": [
       "Running Epoch 4 of 5:   0%|          | 0/944 [00:00<?, ?it/s]"
      ]
     },
     "metadata": {},
     "output_type": "display_data"
    },
    {
     "data": {
      "text/plain": [
       "(4720, 0.09341302353642138)"
      ]
     },
     "execution_count": 22,
     "metadata": {},
     "output_type": "execute_result"
    }
   ],
   "source": [
    "# train\n",
    "model.train_model(data_train)"
   ]
  },
  {
   "cell_type": "code",
   "execution_count": null,
   "id": "6aeed39d-5d58-4641-b2ba-42230c65910a",
   "metadata": {},
   "outputs": [],
   "source": [
    "# validate\n"
   ]
  },
  {
   "cell_type": "code",
   "execution_count": 23,
   "id": "b63b13fc-7ce4-4177-bdc8-bbf78c99597c",
   "metadata": {},
   "outputs": [
    {
     "data": {
      "application/vnd.jupyter.widget-view+json": {
       "model_id": "7a8f04a2e6bb43df9ed49d811f36e531",
       "version_major": 2,
       "version_minor": 0
      },
      "text/plain": [
       "  0%|          | 0/2748 [00:00<?, ?it/s]"
      ]
     },
     "metadata": {},
     "output_type": "display_data"
    },
    {
     "data": {
      "application/vnd.jupyter.widget-view+json": {
       "model_id": "022eeaf896fa4eef941ddb25462a80bd",
       "version_major": 2,
       "version_minor": 0
      },
      "text/plain": [
       "  0%|          | 0/344 [00:00<?, ?it/s]"
      ]
     },
     "metadata": {},
     "output_type": "display_data"
    }
   ],
   "source": [
    "# predict\n",
    "\n",
    "predictions, raw_outputs = model.predict(list(data_test))"
   ]
  },
  {
   "cell_type": "code",
   "execution_count": 28,
   "id": "f4d8e765-c6cd-4827-9b23-ad2c19e7d3d2",
   "metadata": {},
   "outputs": [
    {
     "data": {
      "text/html": [
       "<div>\n",
       "<style scoped>\n",
       "    .dataframe tbody tr th:only-of-type {\n",
       "        vertical-align: middle;\n",
       "    }\n",
       "\n",
       "    .dataframe tbody tr th {\n",
       "        vertical-align: top;\n",
       "    }\n",
       "\n",
       "    .dataframe thead th {\n",
       "        text-align: right;\n",
       "    }\n",
       "</style>\n",
       "<table border=\"1\" class=\"dataframe\">\n",
       "  <thead>\n",
       "    <tr style=\"text-align: right;\">\n",
       "      <th></th>\n",
       "      <th>SECTION</th>\n",
       "    </tr>\n",
       "  </thead>\n",
       "  <tbody>\n",
       "    <tr>\n",
       "      <th>0</th>\n",
       "      <td>1</td>\n",
       "    </tr>\n",
       "    <tr>\n",
       "      <th>1</th>\n",
       "      <td>2</td>\n",
       "    </tr>\n",
       "    <tr>\n",
       "      <th>2</th>\n",
       "      <td>1</td>\n",
       "    </tr>\n",
       "    <tr>\n",
       "      <th>3</th>\n",
       "      <td>1</td>\n",
       "    </tr>\n",
       "    <tr>\n",
       "      <th>4</th>\n",
       "      <td>1</td>\n",
       "    </tr>\n",
       "    <tr>\n",
       "      <th>...</th>\n",
       "      <td>...</td>\n",
       "    </tr>\n",
       "    <tr>\n",
       "      <th>2743</th>\n",
       "      <td>1</td>\n",
       "    </tr>\n",
       "    <tr>\n",
       "      <th>2744</th>\n",
       "      <td>1</td>\n",
       "    </tr>\n",
       "    <tr>\n",
       "      <th>2745</th>\n",
       "      <td>1</td>\n",
       "    </tr>\n",
       "    <tr>\n",
       "      <th>2746</th>\n",
       "      <td>3</td>\n",
       "    </tr>\n",
       "    <tr>\n",
       "      <th>2747</th>\n",
       "      <td>1</td>\n",
       "    </tr>\n",
       "  </tbody>\n",
       "</table>\n",
       "<p>2748 rows × 1 columns</p>\n",
       "</div>"
      ],
      "text/plain": [
       "      SECTION\n",
       "0           1\n",
       "1           2\n",
       "2           1\n",
       "3           1\n",
       "4           1\n",
       "...       ...\n",
       "2743        1\n",
       "2744        1\n",
       "2745        1\n",
       "2746        3\n",
       "2747        1\n",
       "\n",
       "[2748 rows x 1 columns]"
      ]
     },
     "execution_count": 28,
     "metadata": {},
     "output_type": "execute_result"
    }
   ],
   "source": [
    "predictions = pd.DataFrame(predictions)\n",
    "predictions.columns = [\"SECTION\"]\n",
    "predictions"
   ]
  },
  {
   "cell_type": "code",
   "execution_count": 30,
   "id": "0eb57acf-42cc-488d-9cb7-507e91eb0bc5",
   "metadata": {},
   "outputs": [],
   "source": [
    "predictions.to_excel('results.xlsx',index=False)"
   ]
  },
  {
   "cell_type": "code",
   "execution_count": null,
   "id": "aa805cab-41e5-4861-97a1-0f5b9cf1fd82",
   "metadata": {},
   "outputs": [],
   "source": []
  }
 ],
 "metadata": {
  "kernelspec": {
   "display_name": "Python 3",
   "language": "python",
   "name": "python3"
  },
  "language_info": {
   "codemirror_mode": {
    "name": "ipython",
    "version": 3
   },
   "file_extension": ".py",
   "mimetype": "text/x-python",
   "name": "python",
   "nbconvert_exporter": "python",
   "pygments_lexer": "ipython3",
   "version": "3.9.5"
  }
 },
 "nbformat": 4,
 "nbformat_minor": 5
}
